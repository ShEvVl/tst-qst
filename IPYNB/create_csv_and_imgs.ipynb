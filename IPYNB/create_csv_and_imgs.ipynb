{
 "cells": [
  {
   "cell_type": "code",
   "execution_count": 1,
   "id": "e0f0ba7d-d514-44ab-b50b-f5634485430f",
   "metadata": {},
   "outputs": [],
   "source": [
    "from PIL import Image, ImageDraw, ImageFont\n",
    "import random\n",
    "import numpy as np\n",
    "import pandas as pd"
   ]
  },
  {
   "cell_type": "code",
   "execution_count": 2,
   "id": "19a8be0e-bb13-453d-8ba4-3051e80f5cb1",
   "metadata": {},
   "outputs": [],
   "source": [
    "lh = 'http://localhost:8080/static/'\n",
    "categories = ('apple', 'banana', 'city', 'drill', 'ear', 'forest', 'gim', 'hill', 'ink', 'juice', 'koala', 'lion', 'mouse', 'notebook', 'octopus', 'panda', 'queen', 'rabbit', 'sun', 'tea')"
   ]
  },
  {
   "cell_type": "code",
   "execution_count": 3,
   "id": "12c791fc-df41-46d8-afcc-2edcae3c94f0",
   "metadata": {},
   "outputs": [],
   "source": [
    "def categ(n):\n",
    "    words = []\n",
    "    for k in range(n):\n",
    "        Str = ''\n",
    "        cat = list(categories)\n",
    "        m = random.randint(1, 10)\n",
    "        for i in range(m):            \n",
    "            if i == 0:\n",
    "                c = cat[random.randint(0, len(cat)-1)]\n",
    "                Str = Str + c\n",
    "                cat.remove(c)\n",
    "            else:\n",
    "                Str = Str + ';'\n",
    "                c = cat[random.randint(0, len(cat)-1)]\n",
    "                Str = Str + c\n",
    "                cat.remove(c)\n",
    "        words.append(Str)\n",
    "    return words\n",
    "\n",
    "def create_images(n, words):\n",
    "    words = '\\n'.join(words)\n",
    "    # create an image\n",
    "    out = Image.new(\"RGB\", (500, 500), (random.randint(50, 255), random.randint(50, 255), random.randint(50, 255)))\n",
    "    \n",
    "    # get a font\n",
    "    fnt = ImageFont.truetype(\"arial.ttf\", 40)\n",
    "    \n",
    "    # get a drawing context\n",
    "    d = ImageDraw.Draw(out)\n",
    "    \n",
    "    d.text((250, 75), f'{words}', font=fnt, anchor='ms', fill=(0, 0, 0), align='center')\n",
    "    \n",
    "    out.save(f'pics/image{n+1}.jpg', dpi=(500, 500))"
   ]
  },
  {
   "cell_type": "code",
   "execution_count": 6,
   "id": "cd9c1cbe-f383-419b-ae68-34ec9066042e",
   "metadata": {},
   "outputs": [],
   "source": [
    "words = categ(999)\n",
    "CSV =  []\n",
    "for i in range(len(words)):\n",
    "    CSV.append(str(lh + f'image{i+1}.jpg'+';'+ f'{random.randint(1, 50)}' + ';' + words[i]))\n",
    "    w = words[i].split(';')\n",
    "    create_images(i, w)\n",
    "a = np.array(CSV)[:,None]\n",
    "np.savetxt('info.csv', a, fmt='%s')"
   ]
  },
  {
   "cell_type": "code",
   "execution_count": 7,
   "id": "7e70a979-b17f-4267-bed6-56f45ca3d54b",
   "metadata": {},
   "outputs": [
    {
     "data": {
      "text/plain": [
       "0        http://localhost:8080/static/image1.jpg\n",
       "1        http://localhost:8080/static/image2.jpg\n",
       "2        http://localhost:8080/static/image3.jpg\n",
       "3        http://localhost:8080/static/image4.jpg\n",
       "4        http://localhost:8080/static/image5.jpg\n",
       "                         ...                    \n",
       "994    http://localhost:8080/static/image995.jpg\n",
       "995    http://localhost:8080/static/image996.jpg\n",
       "996    http://localhost:8080/static/image997.jpg\n",
       "997    http://localhost:8080/static/image998.jpg\n",
       "998    http://localhost:8080/static/image999.jpg\n",
       "Name: Path, Length: 999, dtype: object"
      ]
     },
     "execution_count": 7,
     "metadata": {},
     "output_type": "execute_result"
    }
   ],
   "source": [
    "with open('info.csv', 'r') as f:\n",
    "    source = f.readlines()\n",
    "    \n",
    "data = []\n",
    "for i in range(len(source)):\n",
    "    data.append(source[i].replace(\"\\n\", \"\"))\n",
    "df = pd.Series(data).str.split(pat=\";\", expand=True)\n",
    "df.columns = [\"Path\", \n",
    "              \"needed_amoun_of_shows\", \n",
    "              \"category_1\", \n",
    "              \"category_2\", \n",
    "              \"category_3\", \n",
    "              \"category_4\", \n",
    "              \"category_5\", \n",
    "              \"category_6\", \n",
    "              \"category_7\", \n",
    "              \"category_8\", \n",
    "              \"category_9\", \n",
    "              \"category_10\"\n",
    "             ]\n",
    "df['Path']"
   ]
  },
  {
   "cell_type": "code",
   "execution_count": null,
   "id": "b456cca8-e238-4540-afd9-044fd8b7f6e5",
   "metadata": {},
   "outputs": [],
   "source": []
  }
 ],
 "metadata": {
  "kernelspec": {
   "display_name": "Python 3 (ipykernel)",
   "language": "python",
   "name": "python3"
  },
  "language_info": {
   "codemirror_mode": {
    "name": "ipython",
    "version": 3
   },
   "file_extension": ".py",
   "mimetype": "text/x-python",
   "name": "python",
   "nbconvert_exporter": "python",
   "pygments_lexer": "ipython3",
   "version": "3.9.9"
  }
 },
 "nbformat": 4,
 "nbformat_minor": 5
}
